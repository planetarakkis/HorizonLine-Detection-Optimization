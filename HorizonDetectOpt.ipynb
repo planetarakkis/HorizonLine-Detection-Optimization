{
  "nbformat": 4,
  "nbformat_minor": 0,
  "metadata": {
    "colab": {
      "name": "HorizonDetectOpt.ipynb",
      "provenance": [],
      "collapsed_sections": []
    },
    "kernelspec": {
      "name": "python3",
      "display_name": "Python 3"
    }
  },
  "cells": [
    {
      "cell_type": "code",
      "metadata": {
        "id": "XZTfj3wOo5oq",
        "colab_type": "code",
        "colab": {}
      },
      "source": [
        "##Test \n",
        "print(\"Hello World\")"
      ],
      "execution_count": null,
      "outputs": []
    }
  ]
}